{
 "cells": [
  {
   "cell_type": "markdown",
   "metadata": {},
   "source": [
    "# Python Assignment # 5"
   ]
  },
  {
   "cell_type": "markdown",
   "metadata": {},
   "source": [
    "# Question:1\n",
    "Write a Python function to calculate the factorial of a number (a non-negative\n",
    "integer). The function accepts the number as an argument."
   ]
  },
  {
   "cell_type": "code",
   "execution_count": 20,
   "metadata": {},
   "outputs": [
    {
     "name": "stdout",
     "output_type": "stream",
     "text": [
      "Enter number : 5\n",
      "120\n"
     ]
    }
   ],
   "source": [
    "x=1\n",
    "factorial=int(input(\"Enter number : \"))\n",
    "if factorial>=0:\n",
    "    if factorial!=1 and factorial!=0:\n",
    "        for i in range(1,factorial):\n",
    "            x=factorial*i\n",
    "            factorial=x\n",
    "        print(x)\n",
    "    else:\n",
    "        print(\"Factorial of \",factorial,\" is 1\")\n",
    "else:\n",
    "    print(\"Please Enter a positive number \")\n"
   ]
  },
  {
   "cell_type": "markdown",
   "metadata": {},
   "source": [
    "# Question:2\n",
    "Write a Python function that accepts a string and calculate the number of upper\n",
    "case letters and lower case letters."
   ]
  },
  {
   "cell_type": "code",
   "execution_count": 18,
   "metadata": {},
   "outputs": [
    {
     "name": "stdout",
     "output_type": "stream",
     "text": [
      "Enter a string : PakIStaN\n",
      "PakIStaN contains  4  no of Upper case letters &  4 no of Lower case letters \n"
     ]
    }
   ],
   "source": [
    "string=input(\"Enter a string : \")\n",
    "x=list(string)\n",
    "Upp=0\n",
    "Low=0\n",
    "for i in range(len(x)):\n",
    "    if x[i].isupper():\n",
    "        Upp=Upp+1\n",
    "    else:\n",
    "        Low=Low+1\n",
    "print(string ,\"contains \",Upp,\" no of Upper case letters & \",Low ,\"no of Lower case letters \")\n",
    "        "
   ]
  },
  {
   "cell_type": "markdown",
   "metadata": {},
   "source": [
    "# Question:3\n",
    "Write a Python function to print the even numbers from a given list."
   ]
  },
  {
   "cell_type": "code",
   "execution_count": 21,
   "metadata": {},
   "outputs": [
    {
     "name": "stdout",
     "output_type": "stream",
     "text": [
      "2\n",
      "4\n",
      "6\n",
      "6\n",
      "2\n",
      "44\n",
      "78\n",
      "4\n"
     ]
    }
   ],
   "source": [
    "L=[2,3,4,6,6,2,44,67,78,4]\n",
    "for i in range(len(L)):\n",
    "    if L[i]%2==0:\n",
    "        print(L[i])\n",
    "    else:\n",
    "        pass"
   ]
  },
  {
   "cell_type": "markdown",
   "metadata": {},
   "source": [
    "# Question:4\n",
    "Write a Python function that checks whether a passed string is palindrome or not.\n",
    "Note: A palindrome is a word, phrase, or sequence that reads the same\n",
    "backward as forward, e.g.,madam"
   ]
  },
  {
   "cell_type": "code",
   "execution_count": 23,
   "metadata": {},
   "outputs": [
    {
     "name": "stdout",
     "output_type": "stream",
     "text": [
      "enter a string : maham\n",
      "Its a palindrome\n"
     ]
    }
   ],
   "source": [
    "x=input(\"enter a string : \")\n",
    "L=list(x)\n",
    "if L[::1]==L[::-1]:\n",
    "    print('Its a palindrome')\n",
    "else:\n",
    "    print(\"Its not a palindrome\")\n"
   ]
  },
  {
   "cell_type": "markdown",
   "metadata": {},
   "source": [
    "# Question:5\n",
    "Write a Python function that takes a number as a parameter and check the\n",
    "number is prime or not."
   ]
  },
  {
   "cell_type": "code",
   "execution_count": 13,
   "metadata": {},
   "outputs": [
    {
     "name": "stdout",
     "output_type": "stream",
     "text": [
      "Number : 6\n",
      "6 is not a prime number\n",
      "2 times 3 is 6\n"
     ]
    }
   ],
   "source": [
    "num=int(input(\"Number : \"))\n",
    "if num > 1:\n",
    "    for i in range(2,num):\n",
    "        if (num % i) == 0:\n",
    "            print(num,\"is not a prime number\")\n",
    "            print(i,\"times\",num//i,\"is\",num)\n",
    "            break\n",
    "    else:\n",
    "        print(num,\"is a prime number\")\n",
    "else:\n",
    "    print(num,\"is not a prime number\")"
   ]
  },
  {
   "cell_type": "markdown",
   "metadata": {},
   "source": [
    "# Question: 6\n",
    "Suppose a customer is shopping in a market and you need to print all the items\n",
    "which user bought from market.\n",
    "Write a function which accepts the multiple arguments of user shopping list and\n",
    "print all the items which user bought from market."
   ]
  },
  {
   "cell_type": "code",
   "execution_count": 2,
   "metadata": {},
   "outputs": [
    {
     "name": "stdout",
     "output_type": "stream",
     "text": [
      " #### WELCOME TO CITY MARKET #### \n",
      "How many items you want to purchase : 3\n",
      "Enter:apple\n",
      "Enter:mango\n",
      "Enter:bat\n",
      "All items you bought are : \n",
      "apple\n",
      "mango\n",
      "bat\n"
     ]
    }
   ],
   "source": [
    "def item(*args):\n",
    "    print('All items you bought are : ')\n",
    "    for c in args:\n",
    "        print(c)\n",
    "print(\" #### WELCOME TO CITY MARKET #### \")\n",
    "x=int(input('How many items you want to purchase : '))\n",
    "z=[]\n",
    "for i in range(x):\n",
    "    y=input('Enter:')\n",
    "    z.append(y)\n",
    "item(*z)"
   ]
  }
 ],
 "metadata": {
  "kernelspec": {
   "display_name": "Python 3",
   "language": "python",
   "name": "python3"
  },
  "language_info": {
   "codemirror_mode": {
    "name": "ipython",
    "version": 3
   },
   "file_extension": ".py",
   "mimetype": "text/x-python",
   "name": "python",
   "nbconvert_exporter": "python",
   "pygments_lexer": "ipython3",
   "version": "3.7.3"
  }
 },
 "nbformat": 4,
 "nbformat_minor": 2
}
